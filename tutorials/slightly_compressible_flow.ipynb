{
 "cells": [
  {
   "cell_type": "markdown",
   "metadata": {},
   "source": [
    "# Slightly compressible flow\n",
    "In this tutorial we investigate how to use PorePy to solve slighlty compresible flow. <br>\n",
    "\n",
    "\n",
    "**Note**: This tutorial will focus on a 2d domain, however most of the code works for 1d, 2d, and 3d domains.<br>\n",
    "\n",
    "Let $\\Omega$ be a regular domain with boundary $\\partial \\Omega$. The boundary can be divided in two non-overlapping parts useful to impose Dirichlet ($\\partial \\Omega_d$) and Neumann ($\\partial \\Omega_n$) boundary conditions. We indicate with $\\mathbf{n}$ the outward unit normal vector of $\\partial \\Omega$.<br>\n",
    "The single-phase flow can be written in primal formulation as:\n",
    "\n",
    "$$ \\phi\\frac{\\partial\\rho}{\\partial t}- \\nabla \\cdot \\rho K \\nabla p = \\rho f $$\n",
    "with boundary conditions on $\\partial \\Omega_d$ and $\\partial \\Omega_n$:\n",
    "$$ p = p_b \\qquad - K \\nabla p \\cdot \\mathbf{n} = u_b. $$\n",
    "Here, $\\phi$ is the porosity, $\\rho$ is the fluid density, $f$ is a scalar source/sink term, $K$ is the permeability matrix, $p_b$ is the pressure at the boundary (Dirichlet condition), and $u_b$ is the flux at the boundary (Neumann condition).<br>\n",
    "\n",
    "As a relationship between pressure and density we use $c_p\\rho = \\text{d}\\rho/\\text{d}p$. Assuming slightly compressible flow (i.e. $\\nabla\\rho\\cdot K\\nabla p \\ll 1$) we can write conservation of mass as\n",
    "\n",
    "$$c_p\\phi\\frac{\\partial p}{\\partial t} - \\nabla \\cdot K \\nabla p = f $$\n",
    "\n",
    "We now discretize in time using backward Euler and time step $k$:\n",
    "$$c_p\\phi\\frac{p^{k+1} - p^k}{k} - \\nabla \\cdot K \\nabla p^{k+1} = f^{k+1} $$\n"
   ]
  },
  {
   "cell_type": "markdown",
   "metadata": {},
   "source": [
    "# Import modules\n",
    "\n",
    "First we have to import the modules."
   ]
  },
  {
   "cell_type": "code",
   "execution_count": 1,
   "metadata": {},
   "outputs": [],
   "source": [
    "import numpy as np\n",
    "import matplotlib.pyplot as plt\n",
    "import porepy as pp"
   ]
  },
  {
   "cell_type": "markdown",
   "metadata": {},
   "source": [
    "# Define problem setup:\n",
    "We define our problem in the unit square. We let our data inherit from the compressible data assigner base class to set default values. We set different parameters in the matrix and fractures. For the matrix we use default parameters for everything except the initial pressure. Note that we let the fracture data inherit from the matrix data. In this way, the initial fracture pressure (or any other parameters you may set for the matrix) equals the parameter for the matrix unless it is overloaded in the fracture data class."
   ]
  },
  {
   "cell_type": "code",
   "execution_count": 2,
   "metadata": {},
   "outputs": [],
   "source": [
    "class MatrixDomain(pp.SlightlyCompressibleDataAssigner):\n",
    "    def initial_pressure(self):\n",
    "        return np.ones(self.grid().num_cells)\n",
    "\n",
    "class FractureDomain(MatrixDomain):\n",
    "    def permeability(self):\n",
    "        kxx = 1000 * np.ones(self.grid().num_cells)\n",
    "        return pp.SecondOrderTensor(2, kxx)\n",
    "    \n",
    "    def aperture(self):\n",
    "        return np.power(0.001, 2 - self.grid().dim)\n",
    "\n",
    "class IntersectionDomain(FractureDomain):\n",
    "    def source(self, t):\n",
    "        assert self.grid().num_cells == 1, 'Assumes Intersection domain only has 1 cell'\n",
    "        f = .4 * self.grid().cell_volumes  # m**3/s\n",
    "        return f * (t < .05)"
   ]
  },
  {
   "cell_type": "markdown",
   "metadata": {},
   "source": [
    "We are now ready to create the grid bucket and assign data to it. The important thing to notice is that the data classes should be stored with the keyword 'flow_data' (or more general, solver.physics + '_data')."
   ]
  },
  {
   "cell_type": "code",
   "execution_count": 3,
   "metadata": {},
   "outputs": [],
   "source": [
    "# generate grid bucket\n",
    "nx = 12\n",
    "ny = 12\n",
    "frac1 = np.array([[0, 1], [.5, .5]])\n",
    "frac2 = np.array([[.5, .5], [0, 1]])\n",
    "fracs = [frac1, frac2]\n",
    "physdims = [1, 1]\n",
    "gb = pp.meshing.cart_grid(fracs, [nx, ny], physdims=physdims)\n",
    "\n",
    "# Initate data\n",
    "for g, d in gb:\n",
    "    if g.dim == 2:\n",
    "        d['flow_data'] = MatrixDomain(g, d)\n",
    "    elif g.dim == 1:\n",
    "        d['flow_data'] = FractureDomain(g, d)\n",
    "    elif g.dim == 0:\n",
    "        d['flow_data'] = IntersectionDomain(g, d)\n",
    "    else:\n",
    "        raise ValueError('Unkown grid-dimension %d' %g.dim)\n",
    "\n",
    "# We loop over the edges and assign the coupling permeability\n",
    "for e, d in gb.edges():\n",
    "    d['kn'] = 1000\n",
    "\n",
    "# Set time stepping parameters:\n",
    "dt = .005\n",
    "T = 0.1"
   ]
  },
  {
   "cell_type": "markdown",
   "metadata": {},
   "source": [
    "We now initialize the problem and solve it:"
   ]
  },
  {
   "cell_type": "code",
   "execution_count": 4,
   "metadata": {},
   "outputs": [
    {
     "name": "stderr",
     "output_type": "stream",
     "text": [
      "Time stepping using 20 steps\n",
      "Step 0 out of 20\n",
      "Step 1 out of 20\n",
      "Step 2 out of 20\n",
      "Step 3 out of 20\n",
      "Step 4 out of 20\n",
      "Step 5 out of 20\n",
      "Step 6 out of 20\n",
      "Step 7 out of 20\n",
      "Step 8 out of 20\n",
      "Step 9 out of 20\n",
      "Step 10 out of 20\n",
      "Step 11 out of 20\n",
      "Step 12 out of 20\n",
      "Step 13 out of 20\n",
      "Step 14 out of 20\n",
      "Step 15 out of 20\n",
      "Step 16 out of 20\n",
      "Step 17 out of 20\n",
      "Step 18 out of 20\n",
      "Step 19 out of 20\n"
     ]
    }
   ],
   "source": [
    "solver = pp.SlightlyCompressibleModel(gb, end_time=T, time_step=dt)\n",
    "solution = solver.solve()"
   ]
  },
  {
   "cell_type": "markdown",
   "metadata": {},
   "source": [
    "And we can plot the pressure field at the end time"
   ]
  },
  {
   "cell_type": "code",
   "execution_count": 10,
   "metadata": {},
   "outputs": [
    {
     "data": {
      "image/png": "[encoded data removed]",
      "text/plain": [
       "<Figure size 432x288 with 2 Axes>"
      ]
     },
     "metadata": {},
     "output_type": "display_data"
    }
   ],
   "source": [
    "solver.pressure('pressure')\n",
    "pp.plot_grid(solver.grid(), 'pressure', color_map = [0.01, 0.023], if_plot=False)\n",
    "plt.title('pressure')\n",
    "plt.show()\n",
    "# Consistency check on the solution:\n",
    "assert np.isclose(np.sum(solver._solver.p), 3.39903570984)"
   ]
  },
  {
   "cell_type": "markdown",
   "metadata": {},
   "source": [
    "The pressure increases in the whole domain until the shutin of the well at $t=0.05$ s, and after this the pressure eavens out. Because the fractures are more permeable than the matrix, the fluid will tend to flow out along the fractures instead of in the matrix. \n",
    "\n",
    "The time evolution of the pressure filed looks like:"
   ]
  },
  {
   "cell_type": "code",
   "execution_count": 7,
   "metadata": {},
   "outputs": [
    {
     "data": {
      "text/html": [
       "<img src=\"fig/slightly_compressible.gif\">"
      ],
      "text/plain": [
       "<IPython.core.display.HTML object>"
      ]
     },
     "execution_count": 7,
     "metadata": {},
     "output_type": "execute_result"
    }
   ],
   "source": [
    "from IPython.display import HTML\n",
    "HTML('<img src=\"fig/slightly_compressible.gif\">')"
   ]
  }
 ],
 "metadata": {
  "kernelspec": {
   "display_name": "Python 3",
   "language": "python",
   "name": "python3"
  },
  "language_info": {
   "codemirror_mode": {
    "name": "ipython",
    "version": 3
   },
   "file_extension": ".py",
   "mimetype": "text/x-python",
   "name": "python",
   "nbconvert_exporter": "python",
   "pygments_lexer": "ipython3",
   "version": "3.6.3"
  }
 },
 "nbformat": 4,
 "nbformat_minor": 2
}
