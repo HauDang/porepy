{
 "cells": [
  {
   "cell_type": "markdown",
   "metadata": {},
   "source": [
    "# Conventions"
   ]
  },
  {
   "cell_type": "markdown",
   "metadata": {},
   "source": [
    "This tutorial lists some of the most important conventions and assumptions used in PorePy."
   ]
  },
  {
   "cell_type": "markdown",
   "metadata": {
    "collapsed": true
   },
   "source": [
    "## Geometry\n",
    "Normal vectors are defined once for each face. To obtain the outwards pointing normal vectors, multiply with the value ($\\pm 1$) of g.cell_faces. For cell c and face f of a grid g, we have\n",
    "\n",
    "outward_normal = g.cell_faces[f, c] * g.face_normals[:, f]"
   ]
  },
  {
   "cell_type": "markdown",
   "metadata": {},
   "source": [
    "## Boundaries\n",
    "When Neumann type boundary conditions are specified, outflow values are considered positive, i.e. outward pointing normal vectors are assumed. For mechanics, this implies that a tensile force is positive. \n",
    "\n",
    "For Dirichlet boundary condition values for mechanics, we prescribe the displacement values directly, without regarding the normal vector. For a 2d  domain, this means that a prescribed boundary value of $\\mathbf{u}_b = [1, -2]$ signifies a unitary displacement to the right, and downwards with magnitude 2. This is regardless of which boundary it is assigned to.\n",
    "\n",
    "On inner boundaries, it is assumed that the mortar flux $\\lambda$ goes from the higher-dimensional to the lower-dimensional domain."
   ]
  },
  {
   "cell_type": "markdown",
   "metadata": {},
   "source": [
    "## Apertures\n",
    "In our mixed-dimensional models, we denote the thickness of the fractures by the term 'aperture' [m]. \n",
    "\n",
    "Volumes [m$^3$] of fracture or intersection cells are computed through their specific volumes. In any given dimension d, this is the volume of the cell per d-dimensional measure. In 2d, it is the volume per area, and has dimensions [m$^3/$m$^2$] = [m]. For 1d intersection lines, the measure is a line measure. The specific volume thus has the dimensions [m$^3/$m] = [m$^2$]. In general, the dimensions are [m$^{3-d}$]. The full volume is always the product of the d-dimensional cell volume and the specific volume\n",
    "\n",
    "volumes = g.cell_volumes * d[\"specific_volumes\"] $\\quad$ [m$^3$]"
   ]
  },
  {
   "cell_type": "code",
   "execution_count": null,
   "metadata": {},
   "outputs": [],
   "source": []
  }
 ],
 "metadata": {
  "kernelspec": {
   "display_name": "Python 3",
   "language": "python",
   "name": "python3"
  },
  "language_info": {
   "codemirror_mode": {
    "name": "ipython",
    "version": 3
   },
   "file_extension": ".py",
   "mimetype": "text/x-python",
   "name": "python",
   "nbconvert_exporter": "python",
   "pygments_lexer": "ipython3",
   "version": "3.6.3"
  }
 },
 "nbformat": 4,
 "nbformat_minor": 2
}
